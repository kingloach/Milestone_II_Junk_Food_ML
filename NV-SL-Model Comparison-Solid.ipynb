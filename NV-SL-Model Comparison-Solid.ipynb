{
 "cells": [
  {
   "cell_type": "code",
   "execution_count": 1,
   "id": "three-happiness",
   "metadata": {},
   "outputs": [],
   "source": [
    "import pandas as pd\n",
    "import numpy as np\n",
    "import matplotlib.pyplot as plt\n",
    "from sklearn.model_selection import train_test_split\n",
    "from sklearn.preprocessing import StandardScaler\n",
    "from sklearn.ensemble import RandomForestClassifier, GradientBoostingClassifier\n",
    "from sklearn.linear_model import LogisticRegression\n",
    "from sklearn.svm import SVC\n",
    "from sklearn.neighbors import KNeighborsClassifier\n",
    "from sklearn.metrics import accuracy_score, f1_score\n",
    "from sklearn.model_selection import KFold, cross_val_score"
   ]
  },
  {
   "cell_type": "code",
   "execution_count": 2,
   "id": "expressed-tracker",
   "metadata": {},
   "outputs": [],
   "source": [
    "csv_file_path = \"data_with_junk_food_solid.csv\"\n",
    "df = pd.read_csv(csv_file_path)\n",
    "\n",
    "df_numeric = df.drop(columns=[\"Food code\", \"Main food description\", \"WWEIA Category description\"])\n",
    "\n",
    "X = df_numeric.drop(columns=[\"Junk Food\"])\n",
    "y = df_numeric[\"Junk Food\"]\n",
    "\n",
    "X_train, X_test, y_train, y_test = train_test_split(X, y, test_size=0.2, random_state=42)\n",
    "\n",
    "scaler = StandardScaler()\n",
    "X_train_scaled = scaler.fit_transform(X_train)\n",
    "X_test_scaled = scaler.transform(X_test)"
   ]
  },
  {
   "cell_type": "code",
   "execution_count": 3,
   "id": "responsible-roommate",
   "metadata": {},
   "outputs": [],
   "source": [
    "k_5_fold = KFold(n_splits=5, shuffle=True, random_state=42)"
   ]
  },
  {
   "cell_type": "code",
   "execution_count": 4,
   "id": "grand-johnson",
   "metadata": {},
   "outputs": [
    {
     "name": "stdout",
     "output_type": "stream",
     "text": [
      "                    Model  Accuracy  F1 Score  Mean Accuracy       Std\n",
      "1       Gradient Boosting  0.998883  0.998870       0.998322  0.002712\n",
      "0           Random Forest  0.987709  0.985700       0.985463  0.004295\n",
      "4     K-Nearest Neighbors  0.978771  0.974398       0.978755  0.004446\n",
      "3  Support Vector Machine  0.976536  0.965964       0.974840  0.002330\n",
      "2     Logistic Regression  0.972067  0.964962       0.969528  0.005687\n"
     ]
    }
   ],
   "source": [
    "models = {\n",
    "    \"Random Forest\": RandomForestClassifier(n_estimators=100, random_state=42),\n",
    "    \"Gradient Boosting\": GradientBoostingClassifier(n_estimators=100, random_state=42),\n",
    "    \"Logistic Regression\": LogisticRegression(max_iter=1000, random_state=42),\n",
    "    \"Support Vector Machine\": SVC(kernel='linear', probability=True, random_state=42),\n",
    "    \"K-Nearest Neighbors\": KNeighborsClassifier(n_neighbors=5)\n",
    "}\n",
    "\n",
    "results = []\n",
    "\n",
    "for name, model in models.items():\n",
    "    model.fit(X_train_scaled, y_train)\n",
    "    y_pred = model.predict(X_test_scaled)\n",
    "    accuracy = accuracy_score(y_test, y_pred)\n",
    "    f1 = f1_score(y_test, y_pred, average='weighted')\n",
    "    cv_scores = cross_val_score(model, X_train_scaled, y_train, cv=k_5_fold, scoring='accuracy')\n",
    "#     results.append({\"Model\": name, \"Accuracy\": accuracy, \"F1 Score\": f1})\n",
    "    results.append({\"Model\": name, \"Accuracy\": accuracy, \"F1 Score\": f1, \"Mean Accuracy\":cv_scores.mean()\n",
    "                    , \"Std\":cv_scores.std()})\n",
    "\n",
    "results_df = pd.DataFrame(results).sort_values(by=\"Accuracy\", ascending=False)\n",
    "print(results_df)"
   ]
  },
  {
   "cell_type": "code",
   "execution_count": null,
   "id": "subjective-possible",
   "metadata": {},
   "outputs": [],
   "source": []
  }
 ],
 "metadata": {
  "kernelspec": {
   "display_name": "Python 3",
   "language": "python",
   "name": "python3"
  },
  "language_info": {
   "codemirror_mode": {
    "name": "ipython",
    "version": 3
   },
   "file_extension": ".py",
   "mimetype": "text/x-python",
   "name": "python",
   "nbconvert_exporter": "python",
   "pygments_lexer": "ipython3",
   "version": "3.7.10"
  }
 },
 "nbformat": 4,
 "nbformat_minor": 5
}
