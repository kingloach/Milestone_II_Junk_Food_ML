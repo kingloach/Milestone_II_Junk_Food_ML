{
 "cells": [
  {
   "cell_type": "code",
   "execution_count": 1,
   "id": "civil-canvas",
   "metadata": {},
   "outputs": [],
   "source": [
    "import pandas as pd\n",
    "import numpy as np\n",
    "import matplotlib.pyplot as plt\n",
    "from sklearn.model_selection import train_test_split, GridSearchCV\n",
    "from sklearn.preprocessing import StandardScaler\n",
    "from sklearn.ensemble import RandomForestClassifier, GradientBoostingClassifier\n",
    "from sklearn.metrics import accuracy_score, classification_report, f1_score"
   ]
  },
  {
   "cell_type": "code",
   "execution_count": 2,
   "id": "answering-capitol",
   "metadata": {},
   "outputs": [],
   "source": [
    "df = pd.read_csv(\"data_with_junk_food_liquid.csv\")\n",
    "df_numeric = df.drop(columns=[\"Food code\", \"Main food description\", \"WWEIA Category description\"\n",
    "                              , \"WWEIA Category number\", \"Is Liquid\"])\n",
    "\n",
    "X = df_numeric.drop(columns=[\"Junk Food\"])\n",
    "y = df_numeric[\"Junk Food\"]"
   ]
  },
  {
   "cell_type": "code",
   "execution_count": 3,
   "id": "executed-russian",
   "metadata": {},
   "outputs": [
    {
     "data": {
      "text/plain": [
       "0    887\n",
       "1     72\n",
       "Name: Junk Food, dtype: int64"
      ]
     },
     "execution_count": 3,
     "metadata": {},
     "output_type": "execute_result"
    }
   ],
   "source": [
    "df[\"Junk Food\"].value_counts()"
   ]
  },
  {
   "cell_type": "code",
   "execution_count": 4,
   "id": "failing-prince",
   "metadata": {},
   "outputs": [],
   "source": [
    "def dummy_classifier(X_train, y_train, X_test, y_test):\n",
    "    preA, recA, accA, preB, recB, accB = None, None, None, None, None, None\n",
    "    from sklearn.dummy import DummyClassifier\n",
    "    from sklearn.metrics import accuracy_score, precision_score, recall_score\n",
    "\n",
    "    d_classifier = DummyClassifier(strategy=\"stratified\", random_state = 0).fit(X_train, y_train)\n",
    "    d_y_pred = d_classifier.predict(X_test) \n",
    "\n",
    "    return classification_report(y_test, d_y_pred)"
   ]
  },
  {
   "cell_type": "code",
   "execution_count": 5,
   "id": "available-factor",
   "metadata": {},
   "outputs": [],
   "source": [
    "X_train, X_test, y_train, y_test = train_test_split(X, y, test_size=0.2, random_state=42)\n",
    "\n",
    "scaler = StandardScaler()\n",
    "X_train_scaled = scaler.fit_transform(X_train)\n",
    "X_test_scaled = scaler.transform(X_test)"
   ]
  },
  {
   "cell_type": "code",
   "execution_count": 6,
   "id": "golden-failure",
   "metadata": {},
   "outputs": [
    {
     "name": "stdout",
     "output_type": "stream",
     "text": [
      "Dummy classifier report: Liquid\n",
      "              precision    recall  f1-score   support\n",
      "\n",
      "           0       0.93      0.92      0.92       178\n",
      "           1       0.06      0.07      0.07        14\n",
      "\n",
      "    accuracy                           0.85       192\n",
      "   macro avg       0.49      0.49      0.49       192\n",
      "weighted avg       0.86      0.85      0.86       192\n",
      "\n"
     ]
    }
   ],
   "source": [
    "print('Dummy classifier report: Liquid')\n",
    "print(dummy_classifier(X_train, y_train, X_test, y_test))"
   ]
  },
  {
   "cell_type": "code",
   "execution_count": 7,
   "id": "academic-execution",
   "metadata": {},
   "outputs": [],
   "source": [
    "gb_model = GradientBoostingClassifier(n_estimators=100, random_state=42)\n",
    "gb_model.fit(X_train_scaled, y_train)\n",
    "\n",
    "y_pred = gb_model.predict(X_test_scaled)\n",
    "\n",
    "# rf_model = RandomForestClassifier(n_estimators=100, random_state=42)\n",
    "# rf_model.fit(X_train_scaled, y_train)\n",
    "\n",
    "# y_pred = rf_model.predict(X_test_scaled)"
   ]
  },
  {
   "cell_type": "code",
   "execution_count": 8,
   "id": "traditional-corps",
   "metadata": {},
   "outputs": [
    {
     "name": "stdout",
     "output_type": "stream",
     "text": [
      "Accuracy: 0.9896\n",
      "              precision    recall  f1-score   support\n",
      "\n",
      "           0       0.99      1.00      0.99       178\n",
      "           1       1.00      0.86      0.92        14\n",
      "\n",
      "    accuracy                           0.99       192\n",
      "   macro avg       0.99      0.93      0.96       192\n",
      "weighted avg       0.99      0.99      0.99       192\n",
      "\n"
     ]
    }
   ],
   "source": [
    "accuracy = accuracy_score(y_test, y_pred)\n",
    "report = classification_report(y_test, y_pred)\n",
    "print(f\"Accuracy: {accuracy:.4f}\")\n",
    "print(report)"
   ]
  },
  {
   "cell_type": "code",
   "execution_count": 9,
   "id": "thick-aspect",
   "metadata": {},
   "outputs": [
    {
     "data": {
      "image/png": "[encoded data removed]",
      "text/plain": [
       "<Figure size 864x432 with 1 Axes>"
      ]
     },
     "metadata": {
      "needs_background": "light"
     },
     "output_type": "display_data"
    }
   ],
   "source": [
    "# Feature importance\n",
    "feature_importance = gb_model.feature_importances_\n",
    "# feature_importance = rf_model.feature_importances_\n",
    "feature_names = X.columns\n",
    "feat_imp_df = pd.DataFrame({'Feature': feature_names, 'Importance': feature_importance}).sort_values(by='Importance', ascending=False)\n",
    "\n",
    "plt.figure(figsize=(12, 6))\n",
    "plt.barh(feat_imp_df['Feature'][:15], feat_imp_df['Importance'][:15])\n",
    "plt.xlabel(\"Feature Importance\")\n",
    "plt.ylabel(\"Features\")\n",
    "plt.title(\"Top 15 Important Features for Liquid Food Type\")\n",
    "plt.gca().invert_yaxis()\n",
    "plt.show()"
   ]
  },
  {
   "cell_type": "code",
   "execution_count": 10,
   "id": "rapid-scout",
   "metadata": {},
   "outputs": [
    {
     "name": "stdout",
     "output_type": "stream",
     "text": [
      "                          Removed Features  Accuracy  F1 Score\n",
      "0                               Water\\n(g)  0.989583  0.989212\n",
      "1                Lutein + zeaxanthin (mcg)  0.989583  0.989212\n",
      "2                           Potassium (mg)  0.989583  0.989212\n",
      "3                            20:5 n-3\\n(g)  0.989583  0.989212\n",
      "4                                16:1\\n(g)  0.989583  0.989212\n",
      "5        Vitamin E (alpha-tocopherol) (mg)  0.989583  0.989212\n",
      "6   Fatty acids, total monounsaturated (g)  0.989583  0.989212\n",
      "7                       Vitamin B-12 (mcg)  0.989583  0.989212\n",
      "8                                10:0\\n(g)  0.989583  0.989212\n",
      "9                              Copper (mg)  0.989583  0.989212\n",
      "10                     Choline, total (mg)  0.989583  0.989212\n",
      "11                               16:0\\n(g)  0.989583  0.989212\n",
      "12                               18:0\\n(g)  0.989583  0.989212\n"
     ]
    }
   ],
   "source": [
    "# Ablation Study\n",
    "ablation_results = []\n",
    "sorted_features = feat_imp_df['Feature'].tolist()[::-1]\n",
    "X_train_ablate = X_train_scaled.copy()\n",
    "X_test_ablate = X_test_scaled.copy()\n",
    "\n",
    "for i in range(0, len(sorted_features), 5):\n",
    "    if i > 0:\n",
    "        features_to_remove = sorted_features[:i]\n",
    "        feature_indices = [X.columns.get_loc(f) for f in features_to_remove]\n",
    "        X_train_ablate = np.delete(X_train_scaled, feature_indices, axis=1)\n",
    "        X_test_ablate = np.delete(X_test_scaled, feature_indices, axis=1)\n",
    "\n",
    "    gb_model_ablate = GradientBoostingClassifier(n_estimators=100, random_state=42)\n",
    "    gb_model_ablate.fit(X_train_ablate, y_train)\n",
    "#     rf_model_ablate = RandomForestClassifier(n_estimators=100, random_state=42)\n",
    "#     rf_model_ablate.fit(X_train_ablate, y_train)\n",
    "    \n",
    "    y_pred_ablate = gb_model_ablate.predict(X_test_ablate)\n",
    "#     y_pred_ablate = rf_model_ablate.predict(X_test_ablate)\n",
    "    accuracy_ablate = accuracy_score(y_test, y_pred_ablate)\n",
    "    f1_ablate = f1_score(y_test, y_pred_ablate, average='weighted')\n",
    "    ablation_results.append({\"Removed Features\": sorted_features[i], \"Accuracy\": accuracy_ablate, \"F1 Score\": f1_ablate})\n",
    "\n",
    "ablation_df = pd.DataFrame(ablation_results)\n",
    "print(ablation_df.sort_values(by=\"Accuracy\", ascending=False))"
   ]
  },
  {
   "cell_type": "code",
   "execution_count": 11,
   "id": "color-islam",
   "metadata": {},
   "outputs": [
    {
     "data": {
      "text/plain": [
       "GridSearchCV(cv=3, estimator=GradientBoostingClassifier(random_state=42),\n",
       "             n_jobs=-1,\n",
       "             param_grid={'max_depth': [None, 10, 20],\n",
       "                         'min_samples_leaf': [1, 2, 4],\n",
       "                         'min_samples_split': [2, 5, 10],\n",
       "                         'n_estimators': [50, 100, 200]},\n",
       "             scoring='accuracy')"
      ]
     },
     "execution_count": 11,
     "metadata": {},
     "output_type": "execute_result"
    }
   ],
   "source": [
    "# Sensitivity Analysis\n",
    "param_grid = {\n",
    "    'n_estimators': [50, 100, 200],\n",
    "    'max_depth': [None, 10, 20],\n",
    "    'min_samples_split': [2, 5, 10],\n",
    "    'min_samples_leaf': [1, 2, 4]\n",
    "}\n",
    "\n",
    "grid_search = GridSearchCV(GradientBoostingClassifier(random_state=42), param_grid, cv=3, scoring='accuracy', n_jobs=-1)\n",
    "# grid_search = GridSearchCV(RandomForestClassifier(random_state=42), param_grid, cv=3, scoring='accuracy', n_jobs=-1)\n",
    "grid_search.fit(X_train_scaled, y_train)"
   ]
  },
  {
   "cell_type": "code",
   "execution_count": 12,
   "id": "indonesian-postcard",
   "metadata": {},
   "outputs": [
    {
     "name": "stdout",
     "output_type": "stream",
     "text": [
      "Best Hyperparameters: {'max_depth': None, 'min_samples_leaf': 2, 'min_samples_split': 2, 'n_estimators': 200}\n",
      "Best Model Accuracy: 0.9896\n",
      "Classification Report:\n",
      "               precision    recall  f1-score   support\n",
      "\n",
      "           0       0.99      0.99      0.99       178\n",
      "           1       0.93      0.93      0.93        14\n",
      "\n",
      "    accuracy                           0.99       192\n",
      "   macro avg       0.96      0.96      0.96       192\n",
      "weighted avg       0.99      0.99      0.99       192\n",
      "\n"
     ]
    }
   ],
   "source": [
    "best_params = grid_search.best_params_\n",
    "best_model = grid_search.best_estimator_\n",
    "y_pred_best = best_model.predict(X_test_scaled)\n",
    "best_accuracy = accuracy_score(y_test, y_pred_best)\n",
    "\n",
    "print(\"Best Hyperparameters:\", best_params)\n",
    "print(f\"Best Model Accuracy: {best_accuracy:.4f}\")\n",
    "\n",
    "print(\"Classification Report:\\n\", classification_report(y_test, y_pred_best))"
   ]
  },
  {
   "cell_type": "code",
   "execution_count": 13,
   "id": "south-punishment",
   "metadata": {},
   "outputs": [
    {
     "name": "stdout",
     "output_type": "stream",
     "text": [
      "Misclassified Samples:\n",
      "     Energy (kcal)  Protein (g)  Carbohydrate (g)  Sugars, total\\n(g)  \\\n",
      "286            124         3.67             23.11                5.10   \n",
      "567            110         0.30             18.60               16.32   \n",
      "\n",
      "     Fiber, total dietary (g)  Total Fat (g)  \\\n",
      "286                       1.5           1.87   \n",
      "567                       0.1           4.40   \n",
      "\n",
      "     Fatty acids, total saturated (g)  Fatty acids, total monounsaturated (g)  \\\n",
      "286                             0.984                                   0.649   \n",
      "567                             0.703                                   1.124   \n",
      "\n",
      "     Fatty acids, total polyunsaturated (g)  Cholesterol (mg)  ...  18:2\\n(g)  \\\n",
      "286                                   0.149                 2  ...      0.146   \n",
      "567                                   2.368                 2  ...      2.060   \n",
      "\n",
      "     18:3\\n(g)  18:4\\n(g)  20:4\\n(g)  20:5 n-3\\n(g)  22:5 n-3\\n(g)  \\\n",
      "286      0.003      0.000        0.0          0.000            0.0   \n",
      "567      0.291      0.001        0.0          0.005            0.0   \n",
      "\n",
      "     22:6 n-3\\n(g)  Water\\n(g)  Actual  Predicted  \n",
      "286          0.000       69.93       0          1  \n",
      "567          0.008       73.20       1          0  \n",
      "\n",
      "[2 rows x 67 columns]\n",
      "\n",
      "Misclassification Counts for liquid food type:\n",
      "   Actual  Predicted  Count\n",
      "0       0          1      1\n",
      "1       1          0      1\n"
     ]
    }
   ],
   "source": [
    "# Failure analysis\n",
    "df_test = X_test.copy()\n",
    "df_test['Actual'] = y_test.values\n",
    "# df_test['Predicted'] = y_pred\n",
    "df_test['Predicted'] = y_pred_best\n",
    "\n",
    "misclassified = df_test[df_test['Actual'] != df_test['Predicted']]\n",
    "\n",
    "misclassification_counts = misclassified.groupby(['Actual', 'Predicted']).size().reset_index(name='Count')\n",
    "\n",
    "print(\"Misclassified Samples:\")\n",
    "print(misclassified)\n",
    "\n",
    "print(\"\\nMisclassification Counts for liquid food type:\")\n",
    "print(misclassification_counts)"
   ]
  },
  {
   "cell_type": "code",
   "execution_count": null,
   "id": "incorrect-capitol",
   "metadata": {},
   "outputs": [],
   "source": []
  }
 ],
 "metadata": {
  "kernelspec": {
   "display_name": "Python 3",
   "language": "python",
   "name": "python3"
  },
  "language_info": {
   "codemirror_mode": {
    "name": "ipython",
    "version": 3
   },
   "file_extension": ".py",
   "mimetype": "text/x-python",
   "name": "python",
   "nbconvert_exporter": "python",
   "pygments_lexer": "ipython3",
   "version": "3.7.10"
  }
 },
 "nbformat": 4,
 "nbformat_minor": 5
}
