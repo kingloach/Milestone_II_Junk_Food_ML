{
 "cells": [
  {
   "cell_type": "code",
   "execution_count": 1,
   "id": "composed-margin",
   "metadata": {},
   "outputs": [],
   "source": [
    "import pandas as pd\n",
    "\n",
    "nutrients_dataset = \"Food And Nutrient Database For Dietary Studies/2021-2023 FNDDS At A Glance - FNDDS Nutrient Values.xlsx\"  \n",
    "df = pd.read_excel(nutrients_dataset, sheet_name=0, header=1)\n",
    "\n",
    "# keywords = ['milk', 'dips', 'spread', 'cream', 'butter', 'sauces', 'dressing', 'ice cream', 'yogurt', 'formula', 'drinks']\n",
    "# keywords = ['milk', 'dips', 'spread', 'cream', 'butter', 'sauces', 'dressing', 'ice cream', 'yogurt'\n",
    "#             , 'formula', 'drinks', 'liquor', 'tea', 'coffee', 'milk', 'water']\n",
    "keywords = ['milk', 'dips', 'spread', 'cream', 'butter', 'sauces', 'dressing', 'ice cream', 'yogurt'\n",
    "            , 'formula', 'drinks', 'liquor', 'tea', 'coffee', 'milk', 'water', 'juice', 'soups'\n",
    "           , 'beverages', 'wine', 'beer']\n",
    "\n",
    "df['Is Liquid'] = df['WWEIA Category description'].apply(lambda x: 1 if any(keyword in str(x).lower() for keyword in keywords) else 0)"
   ]
  },
  {
   "cell_type": "code",
   "execution_count": 2,
   "id": "still-pixel",
   "metadata": {},
   "outputs": [],
   "source": [
    "# !pip install openpyxl"
   ]
  },
  {
   "cell_type": "code",
   "execution_count": 3,
   "id": "amateur-eleven",
   "metadata": {},
   "outputs": [],
   "source": [
    "# Define the conditions for 'Junk Food'\n",
    "# Reference: https://pmc.ncbi.nlm.nih.gov/articles/PMC8826924/#sup1 [nxab205_Supplemental_File]\n",
    "liquid_conditions = (\n",
    "    (df['Is Liquid'] == 1) &\n",
    "    (df['Energy (kcal)'] >= 70) &\n",
    "    (df['Sodium (mg)'] >= 100) &\n",
    "    (df['Sugars, total\\n(g)'] >= 5) &\n",
    "    (df['Total Fat (g)'] >= 3)\n",
    ")\n",
    "\n",
    "solid_conditions = (\n",
    "    (df['Is Liquid'] == 0) &\n",
    "    (df['Energy (kcal)'] >= 275) &\n",
    "    (df['Sodium (mg)'] >= 400) &\n",
    "    (df['Sugars, total\\n(g)'] >= 10) &\n",
    "    (df['Total Fat (g)'] >= 4)\n",
    ")"
   ]
  },
  {
   "cell_type": "code",
   "execution_count": 4,
   "id": "linear-authority",
   "metadata": {},
   "outputs": [],
   "source": [
    "# df['Junk Food'] = liquid_conditions.astype(int)\n",
    "# df.to_csv('data_with_junk_food_liquid.csv', index=False)\n",
    "\n",
    "df['Junk Food'] = liquid_conditions.astype(int)\n",
    "liquid_foods = df[df['Is Liquid'] == 1]\n",
    "liquid_foods.to_csv('data_with_junk_food_liquid.csv', index=False)"
   ]
  },
  {
   "cell_type": "code",
   "execution_count": 5,
   "id": "light-fortune",
   "metadata": {},
   "outputs": [],
   "source": [
    "# df['Junk Food'] = solid_conditions.astype(int)\n",
    "# df.to_csv('data_with_junk_food_solid.csv', index=False)\n",
    "\n",
    "df['Junk Food'] = solid_conditions.astype(int)\n",
    "solid_foods = df[df['Is Liquid'] == 0]\n",
    "solid_foods.to_csv('data_with_junk_food_solid.csv', index=False)"
   ]
  },
  {
   "cell_type": "code",
   "execution_count": null,
   "id": "liquid-empire",
   "metadata": {},
   "outputs": [],
   "source": []
  }
 ],
 "metadata": {
  "kernelspec": {
   "display_name": "Python 3",
   "language": "python",
   "name": "python3"
  },
  "language_info": {
   "codemirror_mode": {
    "name": "ipython",
    "version": 3
   },
   "file_extension": ".py",
   "mimetype": "text/x-python",
   "name": "python",
   "nbconvert_exporter": "python",
   "pygments_lexer": "ipython3",
   "version": "3.7.10"
  }
 },
 "nbformat": 4,
 "nbformat_minor": 5
}
